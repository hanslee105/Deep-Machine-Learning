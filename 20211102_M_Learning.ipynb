{
  "nbformat": 4,
  "nbformat_minor": 0,
  "metadata": {
    "colab": {
      "name": "20211102_M_Learning.ipynb",
      "provenance": [],
      "authorship_tag": "ABX9TyOEVMymLsW1Apr2We6KITFg",
      "include_colab_link": true
    },
    "kernelspec": {
      "name": "python3",
      "display_name": "Python 3"
    },
    "language_info": {
      "name": "python"
    }
  },
  "cells": [
    {
      "cell_type": "markdown",
      "metadata": {
        "id": "view-in-github",
        "colab_type": "text"
      },
      "source": [
        "<a href=\"https://colab.research.google.com/github/hanslee105/Test20211019/blob/main/20211102_M_Learning.ipynb\" target=\"_parent\"><img src=\"https://colab.research.google.com/assets/colab-badge.svg\" alt=\"Open In Colab\"/></a>"
      ]
    },
    {
      "cell_type": "code",
      "metadata": {
        "colab": {
          "base_uri": "https://localhost:8080/"
        },
        "id": "K9eDQoe6KCUS",
        "outputId": "24b5cca8-b5e7-4df5-9361-a19b8ff1ad8f"
      },
      "source": [
        "from sklearn.datasets import load_iris\n",
        "import pandas as pd \n",
        "iris=load_iris()\n",
        "df=pd.DataFrame(iris[\"data\"],\n",
        "            columns=iris[\"feature_names\"])\n",
        "\n",
        "df[\"ans\"]=iris[\"target\"]\n",
        "df.to_csv(\"iris.csv\",encoding=\"utf-8\",index=False)\n",
        "#df\n",
        "import numpy as np \n",
        "from sklearn.model_selection import train_test_split\n",
        "#x:input  y:output\n",
        "y=df[\"ans\"]\n",
        "x=df.drop([\"ans\"],axis=1)\n",
        "y=np.array(x)\n",
        "# train_test_split([1,2,3,4],\n",
        "#                  [\"a\",\"b\",\"c\",\"d\"],\n",
        "#                  test_size=0.25)\n",
        "\n",
        "train_test_split(x,y)"
      ],
      "execution_count": 15,
      "outputs": [
        {
          "output_type": "execute_result",
          "data": {
            "text/plain": [
              "[[4, 1, 3], [2], ['d', 'a', 'c'], ['b']]"
            ]
          },
          "metadata": {},
          "execution_count": 15
        }
      ]
    }
  ]
}