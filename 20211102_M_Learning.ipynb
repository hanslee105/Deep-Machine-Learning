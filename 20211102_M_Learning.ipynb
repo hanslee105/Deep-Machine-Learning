{
  "nbformat": 4,
  "nbformat_minor": 0,
  "metadata": {
    "colab": {
      "name": "20211102_M_Learning.ipynb",
      "provenance": []
    },
    "kernelspec": {
      "name": "python3",
      "display_name": "Python 3"
    },
    "language_info": {
      "name": "python"
    }
  },
  "cells": [
    {
      "cell_type": "code",
      "metadata": {
        "id": "K9eDQoe6KCUS"
      },
      "source": [
        "from sklearn.datasets import load_iris\n",
        "import pandas as pd \n",
        "iris=load_iris()\n",
        "df=pd.DataFrame(iris[\"data\"],\n",
        "            columns=iris[\"feature_names\"])\n",
        "\n",
        "df[\"ans\"]=iris[\"target\"]\n",
        "df.to_csv(\"iris.csv\",encoding=\"utf-8\",index=False)\n",
        "#df\n",
        "#開始丟到sklearn前,把所有東西轉換成numpy array \n",
        "import numpy as np \n",
        "from sklearn.model_selection import train_test_split\n",
        "#x:input  y:output\n",
        "y=df[\"ans\"]\n",
        "y=np.array(y)\n",
        "x=df.drop([\"ans\"],axis=1)\n",
        "x=np.array(x)\n",
        "# train_test_split([1,2,3,4],\n",
        "#                  [\"a\",\"b\",\"c\",\"d\"],\n",
        "#                  test_size=0.25)\n",
        "\n",
        "#準備資料\n",
        "#x_train, x_test, y_train, y_test = train_test_split(x,y,test_size=0.1)\n",
        "x_train, x_test, y_train, y_test = train_test_split(x, y, test_size=0.1)\n",
        "\n",
        "#依照資料分決策樹DecisionTree\n",
        "from sklearn.tree import DecisionTreeClassifier\n",
        "clf=DecisionTreeClassifier()\n",
        "clf.fit(x_train, y_train)\n",
        "\n",
        "\n",
        "#劃出決策樹\n",
        "import matplotlib.pyplot as plt\n",
        "from sklearn.tree import plot_tree\n",
        "plt.figure(figsize=(10,10))\n",
        "plot_tree(clf,\n",
        "           feature_names=iris[\"feature_names\"],\n",
        "           class_names=iris[\"target_names\"],\n",
        "           filled=True\n",
        "           )\n",
        "\n"
      ],
      "execution_count": null,
      "outputs": []
    },
    {
      "cell_type": "code",
      "metadata": {
        "colab": {
          "base_uri": "https://localhost:8080/"
        },
        "id": "-LoUDdQlPFAG",
        "outputId": "6a6e97ce-5807-461b-ac35-ddb035b8163f"
      },
      "source": [
        "from sklearn.metrics import accuracy_score\n",
        "pre=clf.predict(x_test)\n",
        "accuracy_score(pre,y_test)"
      ],
      "execution_count": null,
      "outputs": [
        {
          "output_type": "execute_result",
          "data": {
            "text/plain": [
              "1.0"
            ]
          },
          "metadata": {},
          "execution_count": 21
        }
      ]
    },
    {
      "cell_type": "code",
      "metadata": {
        "id": "mNWg7ww1guQN"
      },
      "source": [
        ""
      ],
      "execution_count": null,
      "outputs": []
    }
  ]
}